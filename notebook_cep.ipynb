{
 "cells": [
  {
   "cell_type": "code",
   "execution_count": null,
   "metadata": {},
   "outputs": [],
   "source": [
    "import requests\n",
    "import pandas as pd\n",
    "\n",
    "def extrair_dados_cep(cep):\n",
    "    url = f\"https://viacep.com.br/ws/{cep}/json/\"\n",
    "    response = requests.get(url)\n",
    "    if response.status_code == 200:\n",
    "        return response.json() \n",
    "    else:\n",
    "        return None\n",
    "\n",
    "clientes_df = pd.read_csv(\"test.csv\") \n",
    "\n",
    "acrescimo = [extrair_dados_cep(cliente) for cliente in clientes_df['CEP']]\n",
    "complemento_df = pd.DataFrame(acrescimo)\n",
    "\n",
    "resultado = clientes_df.merge(complemento_df, left_on='CEP', right_on='cep', how='inner')\n",
    "resultado.to_csv('clientes_detalhes.csv', index=False)"
   ]
  }
 ],
 "metadata": {
  "language_info": {
   "name": "python"
  },
  "orig_nbformat": 4
 },
 "nbformat": 4,
 "nbformat_minor": 2
}
